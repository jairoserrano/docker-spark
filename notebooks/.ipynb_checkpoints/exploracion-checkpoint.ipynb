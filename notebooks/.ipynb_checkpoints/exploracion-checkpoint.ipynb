{
 "cells": [
  {
   "cell_type": "code",
   "execution_count": 64,
   "id": "cb57a5c5-8033-415e-b537-6eb416511942",
   "metadata": {},
   "outputs": [],
   "source": [
    "from pyspark.sql import SparkSession\n",
    "\n",
    "spark = SparkSession.builder.master(\"spark://spark-master:7077\").getOrCreate()\n",
    "sc = spark.sparkContext"
   ]
  },
  {
   "cell_type": "code",
   "execution_count": 65,
   "id": "efca9e81-7d91-4775-9078-b9f582e8ad30",
   "metadata": {},
   "outputs": [],
   "source": [
    "rdd = sc.parallelize(range(1000000+1))"
   ]
  },
  {
   "cell_type": "code",
   "execution_count": 66,
   "id": "908e31c8-76d4-4a8e-8129-89b2bac3cb2d",
   "metadata": {},
   "outputs": [
    {
     "data": {
      "text/plain": [
       "500000500000"
      ]
     },
     "execution_count": 66,
     "metadata": {},
     "output_type": "execute_result"
    }
   ],
   "source": [
    "rdd.sum()"
   ]
  },
  {
   "cell_type": "code",
   "execution_count": 67,
   "id": "b29778cf-47a3-46da-8e78-93e6b7864764",
   "metadata": {},
   "outputs": [
    {
     "data": {
      "text/plain": [
       "1000001"
      ]
     },
     "execution_count": 67,
     "metadata": {},
     "output_type": "execute_result"
    }
   ],
   "source": [
    "rdd.count()"
   ]
  },
  {
   "cell_type": "code",
   "execution_count": 68,
   "id": "499a3cb1-7e3c-448d-b0fd-8946ec99d9da",
   "metadata": {},
   "outputs": [
    {
     "data": {
      "text/plain": [
       "0"
      ]
     },
     "execution_count": 68,
     "metadata": {},
     "output_type": "execute_result"
    }
   ],
   "source": [
    "rdd.first()"
   ]
  },
  {
   "cell_type": "code",
   "execution_count": 69,
   "id": "f30bfcc5-7276-4dc5-afaf-2e54735c2c29",
   "metadata": {},
   "outputs": [
    {
     "data": {
      "text/plain": [
       "1000000"
      ]
     },
     "execution_count": 69,
     "metadata": {},
     "output_type": "execute_result"
    }
   ],
   "source": [
    "rdd.max()"
   ]
  },
  {
   "cell_type": "code",
   "execution_count": 70,
   "id": "519c3d2a-1d03-4bf6-9cd9-0d20ea20f1a3",
   "metadata": {},
   "outputs": [],
   "source": [
    "data = [('James','','Smith','1991-04-01','M',3000),\n",
    "  ('Michael','Rose','','2000-05-19','M',4000),\n",
    "  ('Robert','','Williams','1978-09-05','M',4000),\n",
    "  ('Maria','Anne','Jones','1967-12-01','F',4000),\n",
    "  ('Jen','Mary','Brown','1980-02-17','F',-1)\n",
    "]"
   ]
  },
  {
   "cell_type": "code",
   "execution_count": 71,
   "id": "111dbb1d-1f68-4c47-8028-8705986af598",
   "metadata": {},
   "outputs": [],
   "source": [
    "columns = [\"firstname\",\"middlename\",\"lastname\",\"dob\",\"gender\",\"salary\"]"
   ]
  },
  {
   "cell_type": "code",
   "execution_count": 72,
   "id": "564dd4e8-cf21-4423-a445-7673be9ed7a6",
   "metadata": {},
   "outputs": [],
   "source": [
    "dataframe = spark.createDataFrame(data=data, schema = columns)"
   ]
  },
  {
   "cell_type": "code",
   "execution_count": 73,
   "id": "a32c8d00-43e9-4507-b0cf-b0dc629a6000",
   "metadata": {},
   "outputs": [
    {
     "name": "stdout",
     "output_type": "stream",
     "text": [
      "root\n",
      " |-- firstname: string (nullable = true)\n",
      " |-- middlename: string (nullable = true)\n",
      " |-- lastname: string (nullable = true)\n",
      " |-- dob: string (nullable = true)\n",
      " |-- gender: string (nullable = true)\n",
      " |-- salary: long (nullable = true)\n",
      "\n"
     ]
    }
   ],
   "source": [
    "dataframe.printSchema()"
   ]
  },
  {
   "cell_type": "code",
   "execution_count": 74,
   "id": "1ce7373f-02f9-4692-a7ad-9b4b5e0e8b78",
   "metadata": {},
   "outputs": [
    {
     "name": "stdout",
     "output_type": "stream",
     "text": [
      "+---------+----------+--------+----------+------+------+\n",
      "|firstname|middlename|lastname|       dob|gender|salary|\n",
      "+---------+----------+--------+----------+------+------+\n",
      "|    James|          |   Smith|1991-04-01|     M|  3000|\n",
      "|  Michael|      Rose|        |2000-05-19|     M|  4000|\n",
      "|   Robert|          |Williams|1978-09-05|     M|  4000|\n",
      "|    Maria|      Anne|   Jones|1967-12-01|     F|  4000|\n",
      "|      Jen|      Mary|   Brown|1980-02-17|     F|    -1|\n",
      "+---------+----------+--------+----------+------+------+\n",
      "\n"
     ]
    }
   ],
   "source": [
    "dataframe.show()"
   ]
  },
  {
   "cell_type": "code",
   "execution_count": 75,
   "id": "03a32f47-fc2e-40d9-80ce-390e3debb33e",
   "metadata": {},
   "outputs": [
    {
     "name": "stdout",
     "output_type": "stream",
     "text": [
      "+---------+--------+------+\n",
      "|firstname|lastname|salary|\n",
      "+---------+--------+------+\n",
      "|    James|   Smith|  3000|\n",
      "|  Michael|        |  4000|\n",
      "|   Robert|Williams|  4000|\n",
      "+---------+--------+------+\n",
      "only showing top 3 rows\n",
      "\n"
     ]
    }
   ],
   "source": [
    "dataframe.select('firstname','lastname','salary').show(3)"
   ]
  },
  {
   "cell_type": "code",
   "execution_count": 76,
   "id": "d3bca773-c28f-487f-8593-30b3c587882d",
   "metadata": {},
   "outputs": [
    {
     "name": "stdout",
     "output_type": "stream",
     "text": [
      "+-------+------------------+\n",
      "|summary|            salary|\n",
      "+-------+------------------+\n",
      "|  count|                 5|\n",
      "|   mean|            2999.8|\n",
      "| stddev|1732.4838238783068|\n",
      "|    min|                -1|\n",
      "|    max|              4000|\n",
      "+-------+------------------+\n",
      "\n"
     ]
    }
   ],
   "source": [
    "dataframe.describe('salary').show()"
   ]
  },
  {
   "cell_type": "code",
   "execution_count": 77,
   "id": "3409b0b3-2465-4cfe-94b3-d462cecb73c2",
   "metadata": {},
   "outputs": [
    {
     "name": "stdout",
     "output_type": "stream",
     "text": [
      "+-------+---------+----------+--------+----------+------+------------------+\n",
      "|summary|firstname|middlename|lastname|       dob|gender|            salary|\n",
      "+-------+---------+----------+--------+----------+------+------------------+\n",
      "|  count|        5|         5|       5|         5|     5|                 5|\n",
      "|   mean|     null|      null|    null|      null|  null|            2999.8|\n",
      "| stddev|     null|      null|    null|      null|  null|1732.4838238783068|\n",
      "|    min|    James|          |        |1967-12-01|     F|                -1|\n",
      "|    max|   Robert|      Rose|Williams|2000-05-19|     M|              4000|\n",
      "+-------+---------+----------+--------+----------+------+------------------+\n",
      "\n"
     ]
    }
   ],
   "source": [
    "dataframe.describe().show()"
   ]
  },
  {
   "cell_type": "code",
   "execution_count": 83,
   "id": "c5f579ff-effa-47eb-823b-14affaa19fd3",
   "metadata": {},
   "outputs": [
    {
     "name": "stdout",
     "output_type": "stream",
     "text": [
      "+------+------+\n",
      "|gender|number|\n",
      "+------+------+\n",
      "|     M|     3|\n",
      "|     F|     2|\n",
      "+------+------+\n",
      "\n"
     ]
    }
   ],
   "source": [
    "dataframe.createOrReplaceTempView(\"PERSON_DATA\")\n",
    "groupDataframe = spark.sql(\"SELECT gender, count(*) as number from PERSON_DATA group by gender\")\n",
    "groupDataframe.show()"
   ]
  },
  {
   "cell_type": "code",
   "execution_count": 93,
   "id": "2f465b1a-f7ec-4a61-b581-9e823d697f9a",
   "metadata": {},
   "outputs": [
    {
     "name": "stdout",
     "output_type": "stream",
     "text": [
      "+------+------------------+\n",
      "|gender|       avg(salary)|\n",
      "+------+------------------+\n",
      "|     M|3666.6666666666665|\n",
      "|     F|            1999.5|\n",
      "+------+------------------+\n",
      "\n"
     ]
    }
   ],
   "source": [
    "groupDataframe2 = spark.sql(\"SELECT gender, avg(salary) from PERSON_DATA group by gender\")\n",
    "groupDataframe2.show()"
   ]
  },
  {
   "cell_type": "code",
   "execution_count": 49,
   "id": "7ed24d0f-f4a0-43d6-a012-ce5f26ade2f6",
   "metadata": {},
   "outputs": [
    {
     "name": "stdout",
     "output_type": "stream",
     "text": [
      "+------+-----+\n",
      "|gender|count|\n",
      "+------+-----+\n",
      "|     M|    3|\n",
      "|     F|    2|\n",
      "+------+-----+\n",
      "\n"
     ]
    }
   ],
   "source": [
    "dataframe.groupBy(\"gender\").count().sort(\"count\",ascending=False).show()"
   ]
  },
  {
   "cell_type": "code",
   "execution_count": 50,
   "id": "85c65481-5a94-45b7-8b77-e10a10d5f963",
   "metadata": {},
   "outputs": [
    {
     "name": "stdout",
     "output_type": "stream",
     "text": [
      "+---------+----------+--------+----------+------+------+\n",
      "|firstname|middlename|lastname|       dob|gender|salary|\n",
      "+---------+----------+--------+----------+------+------+\n",
      "|    James|          |   Smith|1991-04-01|     M|  3000|\n",
      "|  Michael|      Rose|        |2000-05-19|     M|  4000|\n",
      "|   Robert|          |Williams|1978-09-05|     M|  4000|\n",
      "|    Maria|      Anne|   Jones|1967-12-01|     F|  4000|\n",
      "|      Jen|      Mary|   Brown|1980-02-17|     F|    -1|\n",
      "+---------+----------+--------+----------+------+------+\n",
      "\n"
     ]
    }
   ],
   "source": [
    "dataframe.show()"
   ]
  },
  {
   "cell_type": "code",
   "execution_count": 54,
   "id": "e0faa720-7f77-4538-91a4-278b2d38f1c0",
   "metadata": {},
   "outputs": [
    {
     "data": {
      "text/plain": [
       "3"
      ]
     },
     "execution_count": 54,
     "metadata": {},
     "output_type": "execute_result"
    }
   ],
   "source": [
    "dataframe.filter(dataframe.salary > 3999).count()"
   ]
  },
  {
   "cell_type": "code",
   "execution_count": 56,
   "id": "7761fb5d-04f6-450d-bffd-8e6b5a0e981e",
   "metadata": {},
   "outputs": [
    {
     "name": "stdout",
     "output_type": "stream",
     "text": [
      "+------+------------------+\n",
      "|gender|       avg(salary)|\n",
      "+------+------------------+\n",
      "|     M|3666.6666666666665|\n",
      "|     F|            1999.5|\n",
      "+------+------------------+\n",
      "\n"
     ]
    }
   ],
   "source": [
    "dataframe.groupby('gender').agg({'salary': 'mean'}).show()"
   ]
  },
  {
   "cell_type": "code",
   "execution_count": null,
   "id": "cc27c5c8-4af2-4c0e-b939-63983ecf6729",
   "metadata": {},
   "outputs": [],
   "source": []
  }
 ],
 "metadata": {
  "kernelspec": {
   "display_name": "Python 3 (ipykernel)",
   "language": "python",
   "name": "python3"
  },
  "language_info": {
   "codemirror_mode": {
    "name": "ipython",
    "version": 3
   },
   "file_extension": ".py",
   "mimetype": "text/x-python",
   "name": "python",
   "nbconvert_exporter": "python",
   "pygments_lexer": "ipython3",
   "version": "3.10.6"
  }
 },
 "nbformat": 4,
 "nbformat_minor": 5
}
