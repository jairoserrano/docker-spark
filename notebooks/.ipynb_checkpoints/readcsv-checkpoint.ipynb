{
 "cells": [
  {
   "cell_type": "code",
   "execution_count": 20,
   "id": "6bb6d0a7",
   "metadata": {},
   "outputs": [],
   "source": [
    "from pyspark.sql import SparkSession"
   ]
  },
  {
   "cell_type": "code",
   "execution_count": null,
   "id": "cfea827e-c891-432f-88cd-120e24d97a25",
   "metadata": {},
   "outputs": [],
   "source": [
    "spark = SparkSession.builder.master(\"spark://192.168.1.28:7077\").getOrCreate()\n",
    "sc = spark.sparkContext"
   ]
  },
  {
   "cell_type": "code",
   "execution_count": 21,
   "id": "02fec138",
   "metadata": {},
   "outputs": [],
   "source": [
    "df = spark.read.options(header='True', inferSchema='True', delimiter=',').csv(\"/home/jovyan/notebooks/energy_hour.csv\")"
   ]
  },
  {
   "cell_type": "code",
   "execution_count": 19,
   "id": "48d5b583-16e3-47ff-9423-2e0380c7fa3f",
   "metadata": {},
   "outputs": [
    {
     "data": {
      "text/plain": [
       "DataFrame[summary: string, id: string, reference: string, power_real: string, power_counter: string, power_real_temp: string, pac_sum: string, pac_sum_counter: string, pac_sum_temp: string, total_energy: string, co2factor: string, update_at: string, day_energy: string]"
      ]
     },
     "execution_count": 19,
     "metadata": {},
     "output_type": "execute_result"
    }
   ],
   "source": [
    "df.describe()"
   ]
  },
  {
   "cell_type": "code",
   "execution_count": 23,
   "id": "4076cd7f-e26c-4fb6-b2c7-ab31abef2cd6",
   "metadata": {},
   "outputs": [
    {
     "data": {
      "text/plain": [
       "21652"
      ]
     },
     "execution_count": 23,
     "metadata": {},
     "output_type": "execute_result"
    }
   ],
   "source": [
    "df.count()"
   ]
  },
  {
   "cell_type": "code",
   "execution_count": null,
   "id": "a9837c06-131e-45cf-b52e-eb5de3279a07",
   "metadata": {},
   "outputs": [],
   "source": []
  }
 ],
 "metadata": {
  "kernelspec": {
   "display_name": "Python 3 (ipykernel)",
   "language": "python",
   "name": "python3"
  },
  "language_info": {
   "codemirror_mode": {
    "name": "ipython",
    "version": 3
   },
   "file_extension": ".py",
   "mimetype": "text/x-python",
   "name": "python",
   "nbconvert_exporter": "python",
   "pygments_lexer": "ipython3",
   "version": "3.10.6"
  }
 },
 "nbformat": 4,
 "nbformat_minor": 5
}
