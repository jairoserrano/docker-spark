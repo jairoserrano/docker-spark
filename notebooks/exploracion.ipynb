{
 "cells": [
  {
   "cell_type": "code",
   "execution_count": 1,
   "id": "cb57a5c5-8033-415e-b537-6eb416511942",
   "metadata": {},
   "outputs": [],
   "source": [
    "from pyspark.sql import SparkSession\n",
    "\n",
    "spark = SparkSession.builder.master(\"spark://spark-master:7077\").getOrCreate()\n",
    "sc = spark.sparkContext"
   ]
  },
  {
   "cell_type": "code",
   "execution_count": 88,
   "id": "efca9e81-7d91-4775-9078-b9f582e8ad30",
   "metadata": {},
   "outputs": [],
   "source": [
    "df = spark.read.options(header='True', inferSchema='True', delimiter=',').csv(\"/home/jovyan/notebooks/energy_hour.csv\")"
   ]
  },
  {
   "cell_type": "code",
   "execution_count": 4,
   "id": "b29778cf-47a3-46da-8e78-93e6b7864764",
   "metadata": {},
   "outputs": [
    {
     "data": {
      "text/plain": [
       "21652"
      ]
     },
     "execution_count": 4,
     "metadata": {},
     "output_type": "execute_result"
    }
   ],
   "source": [
    "df.count()"
   ]
  },
  {
   "cell_type": "code",
   "execution_count": 5,
   "id": "499a3cb1-7e3c-448d-b0fd-8946ec99d9da",
   "metadata": {},
   "outputs": [
    {
     "data": {
      "text/plain": [
       "Row(id=90, created_at=datetime.datetime(2022, 3, 12, 7, 0), reference='takurika1', power_real=-2790.72, power_counter=12, power_real_temp=-33488.6, pac_sum=351.794, pac_sum_counter=11, pac_sum_temp=3869.73, total_energy=11716300, co2factor=1925920.0, update_at='2022-03-12 12:59:55', day_energy=None)"
      ]
     },
     "execution_count": 5,
     "metadata": {},
     "output_type": "execute_result"
    }
   ],
   "source": [
    "df.first()"
   ]
  },
  {
   "cell_type": "code",
   "execution_count": 6,
   "id": "a32c8d00-43e9-4507-b0cf-b0dc629a6000",
   "metadata": {},
   "outputs": [
    {
     "name": "stdout",
     "output_type": "stream",
     "text": [
      "root\n",
      " |-- id: integer (nullable = true)\n",
      " |-- created_at: timestamp (nullable = true)\n",
      " |-- reference: string (nullable = true)\n",
      " |-- power_real: double (nullable = true)\n",
      " |-- power_counter: integer (nullable = true)\n",
      " |-- power_real_temp: double (nullable = true)\n",
      " |-- pac_sum: double (nullable = true)\n",
      " |-- pac_sum_counter: integer (nullable = true)\n",
      " |-- pac_sum_temp: double (nullable = true)\n",
      " |-- total_energy: integer (nullable = true)\n",
      " |-- co2factor: double (nullable = true)\n",
      " |-- update_at: string (nullable = true)\n",
      " |-- day_energy: integer (nullable = true)\n",
      "\n"
     ]
    }
   ],
   "source": [
    "df.printSchema()"
   ]
  },
  {
   "cell_type": "code",
   "execution_count": 11,
   "id": "1ce7373f-02f9-4692-a7ad-9b4b5e0e8b78",
   "metadata": {},
   "outputs": [
    {
     "name": "stdout",
     "output_type": "stream",
     "text": [
      "+---+-------------------+-----------+----------+-------------+---------------+-------+---------------+------------+------------+---------+-------------------+----------+\n",
      "| id|         created_at|  reference|power_real|power_counter|power_real_temp|pac_sum|pac_sum_counter|pac_sum_temp|total_energy|co2factor|          update_at|day_energy|\n",
      "+---+-------------------+-----------+----------+-------------+---------------+-------+---------------+------------+------------+---------+-------------------+----------+\n",
      "| 90|2022-03-12 07:00:00|  takurika1|  -2790.72|           12|       -33488.6|351.794|             11|     3869.73|    11716300|1925920.0|2022-03-12 12:59:55|      null|\n",
      "| 91|2022-03-12 07:00:00|comfenalco1|   59.7637|           12|        717.164| 562.77|             11|     6190.47|    27803800|4570390.0|2022-03-12 12:59:54|      null|\n",
      "| 92|2022-03-12 07:00:00|       edlv|    3563.2|            2|         7126.4|    0.0|              0|         0.0|           0|      0.0|2022-03-12 12:59:04|      null|\n",
      "| 93|2022-03-12 08:00:00|comfenalco1|   277.623|          305|        84675.0|57.1527|            305|     17431.6|    27814200|4572100.0|2022-03-12 08:59:55|      null|\n",
      "| 94|2022-03-12 08:00:00|  takurika1|   790.094|          290|       229127.0|24.6483|            277|     6827.59|    11721500|1926780.0|2022-03-12 08:59:58|      null|\n",
      "+---+-------------------+-----------+----------+-------------+---------------+-------+---------------+------------+------------+---------+-------------------+----------+\n",
      "only showing top 5 rows\n",
      "\n"
     ]
    }
   ],
   "source": [
    "df.show(5)"
   ]
  },
  {
   "cell_type": "code",
   "execution_count": 12,
   "id": "aa6451cf-8e57-41d9-ab7c-ab0c3ed31754",
   "metadata": {},
   "outputs": [
    {
     "data": {
      "text/plain": [
       "13479"
      ]
     },
     "execution_count": 12,
     "metadata": {},
     "output_type": "execute_result"
    }
   ],
   "source": [
    "df.filter(df.day_energy > 0).count()"
   ]
  },
  {
   "cell_type": "code",
   "execution_count": 24,
   "id": "8872170d-fd27-4428-ac67-bf2b3224c552",
   "metadata": {},
   "outputs": [
    {
     "name": "stdout",
     "output_type": "stream",
     "text": [
      "+---+-------------------+-----------+----------+-------------+---------------+-------+---------------+------------+------------+---------+-------------------+----------+\n",
      "| id|         created_at|  reference|power_real|power_counter|power_real_temp|pac_sum|pac_sum_counter|pac_sum_temp|total_energy|co2factor|          update_at|day_energy|\n",
      "+---+-------------------+-----------+----------+-------------+---------------+-------+---------------+------------+------------+---------+-------------------+----------+\n",
      "|103|1999-12-31 19:00:00|  takurika1|   2516.92|            3|        25615.9|    0.0|              2|         0.0|    29104900|4784260.0|2022-10-21 21:57:11|     51432|\n",
      "|231|2022-03-14 06:00:00|  takurika1|  -271.995|          360|       -97918.0|2.42898|            360|     874.433|    11845300|1947130.0|2022-03-14 06:59:54|       360|\n",
      "|232|2022-03-14 06:00:00|comfenalco1|   18844.3|          360|      6783930.0|9.38431|            360|     3378.35|    28029600|4607510.0|2022-03-14 06:59:55|      1124|\n",
      "|234|2022-03-14 07:00:00|  takurika1|  -1879.56|          353|      -663486.0|10.3193|            339|     3498.26|    11847300|1947450.0|2022-03-14 07:59:59|      2346|\n",
      "|236|2022-03-14 07:00:00|comfenalco1|   26705.6|          360|      9614030.0|42.9311|            360|     15455.2|    28038500|4608960.0|2022-03-14 07:59:55|      9979|\n",
      "|237|2022-03-14 08:00:00|  takurika1|  -5103.81|          307|     -1566870.0|22.9106|            306|     7010.64|    11852400|1948300.0|2022-03-14 08:59:54|      7497|\n",
      "|238|2022-03-14 08:00:00|comfenalco1|   12287.0|          342|      4202170.0|80.9689|            342|     27691.4|    28060300|4612550.0|2022-03-14 08:59:55|     31821|\n",
      "|240|2022-03-14 09:00:00|  takurika1|  -7580.77|          290|     -2198420.0|37.7158|            283|     10673.6|    11861500|1949790.0|2022-03-14 09:59:54|     16544|\n",
      "|241|2022-03-14 09:00:00|comfenalco1|   6240.57|          360|      2246610.0|105.014|            360|     37805.2|    28092200|4617790.0|2022-03-14 09:59:55|     63716|\n",
      "|243|2022-03-14 10:00:00|  takurika1|  -9897.62|          318|     -3147440.0|42.9203|            310|     13305.3|    11873400|1951750.0|2022-03-14 10:59:55|     28502|\n",
      "|244|2022-03-14 10:00:00|comfenalco1|   3639.22|          360|      1310120.0|116.173|            360|     41822.2|    28130900|4624160.0|2022-03-14 10:59:55|    102441|\n",
      "|246|2022-03-14 11:00:00|  takurika1|  -13837.7|          332|     -4594130.0|46.2949|            312|     14444.0|    11887500|1954060.0|2022-03-14 11:59:54|     42543|\n",
      "|247|2022-03-14 11:00:00|comfenalco1|   3417.34|          353|      1206320.0|133.109|            353|     46987.3|    28174200|4631280.0|2022-03-14 11:59:55|    145708|\n",
      "|249|2022-03-14 12:00:00|comfenalco1|   358.106|          360|       128918.0|77.8191|            360|     28014.9|    28210200|4637190.0|2022-03-14 12:59:53|    181660|\n",
      "|251|2022-03-14 12:00:00|  takurika1|  -15600.1|          333|     -5194820.0|48.3304|            338|     16335.7|    11903300|1956670.0|2022-03-14 12:59:53|     58393|\n",
      "|252|2022-03-14 13:00:00|  takurika1|  -15578.1|          310|     -4829220.0|45.8739|            325|     14909.0|    11919200|1959280.0|2022-03-14 13:59:58|     74260|\n",
      "|253|2022-03-14 13:00:00|comfenalco1|   249.724|          313|        78163.7|129.325|            313|     40478.8|    28244200|4642770.0|2022-03-14 13:59:53|    215650|\n",
      "|255|2022-03-14 14:00:00|comfenalco1|   1358.61|          360|       489101.0|93.1923|            360|     33549.2|    28278300|4648380.0|2022-03-14 14:59:53|    249770|\n",
      "|257|2022-03-14 14:00:00|  takurika1|  -13436.1|          304|     -4084570.0|41.4886|            296|     12280.6|    11932900|1961530.0|2022-03-14 14:59:52|     88000|\n",
      "|258|2022-03-14 15:00:00|comfenalco1|   5321.11|          360|      1915600.0|59.6135|            360|     21460.9|    28305100|4652800.0|2022-03-14 15:59:53|    276610|\n",
      "+---+-------------------+-----------+----------+-------------+---------------+-------+---------------+------------+------------+---------+-------------------+----------+\n",
      "only showing top 20 rows\n",
      "\n"
     ]
    }
   ],
   "source": [
    "df.filter(df.day_energy > 0).show()"
   ]
  },
  {
   "cell_type": "code",
   "execution_count": 15,
   "id": "e5465149-d1b6-4098-94bb-3cae8574f6ec",
   "metadata": {},
   "outputs": [
    {
     "name": "stdout",
     "output_type": "stream",
     "text": [
      "+-----------+-----+\n",
      "|  reference|count|\n",
      "+-----------+-----+\n",
      "|comfenalco1| 4439|\n",
      "|  takurika1| 4153|\n",
      "|  takurika2| 2809|\n",
      "|       edlv| 2047|\n",
      "|  takurika3|   31|\n",
      "+-----------+-----+\n",
      "\n"
     ]
    }
   ],
   "source": [
    "df.filter(df.day_energy > 0).groupBy(\"reference\").count().sort(\"count\",ascending=False).show()"
   ]
  },
  {
   "cell_type": "code",
   "execution_count": 18,
   "id": "d3bca773-c28f-487f-8593-30b3c587882d",
   "metadata": {},
   "outputs": [
    {
     "name": "stdout",
     "output_type": "stream",
     "text": [
      "+-------+--------------------+\n",
      "|summary|        total_energy|\n",
      "+-------+--------------------+\n",
      "|  count|               21652|\n",
      "|   mean|2.4223917295399964E7|\n",
      "| stddev| 1.899760677268646E7|\n",
      "|    min|                   0|\n",
      "|    max|            70324400|\n",
      "+-------+--------------------+\n",
      "\n"
     ]
    }
   ],
   "source": [
    "df.describe('total_energy').show()"
   ]
  },
  {
   "cell_type": "code",
   "execution_count": 19,
   "id": "3409b0b3-2465-4cfe-94b3-d462cecb73c2",
   "metadata": {},
   "outputs": [
    {
     "name": "stdout",
     "output_type": "stream",
     "text": [
      "+-------+-----------------+-----------+------------------+------------------+------------------+-----------------+-----------------+-----------------+--------------------+------------------+-------------------+-----------------+\n",
      "|summary|               id|  reference|        power_real|     power_counter|   power_real_temp|          pac_sum|  pac_sum_counter|     pac_sum_temp|        total_energy|         co2factor|          update_at|       day_energy|\n",
      "+-------+-----------------+-----------+------------------+------------------+------------------+-----------------+-----------------+-----------------+--------------------+------------------+-------------------+-----------------+\n",
      "|  count|            21652|      21652|             21652|             21652|             21652|            21652|            21652|            21652|               21652|             21652|              21637|            18602|\n",
      "|   mean|34789.40421208202|       null|12310.708827065848| 2.704276741178644| 3862.436266951011|5098.667321571639| 1.78043598743765|37.07525378717902|2.4223917295399964E7| 3981927.733913726|               null|62531.56660574132|\n",
      "| stddev| 22812.6992963774|       null|23421.858848509324|25.123251200129243|145727.95461514045|9995.267240662432|24.88671872248481|876.7507985622813| 1.899760677268646E7|3122826.7357484447|               null|80430.43579986226|\n",
      "|    min|               90|comfenalco1|          -44904.4|                 0|        -5194820.0|              0.0|                0|              0.0|                   0|               0.0|0000-00-00 00:00:00|                0|\n",
      "|    max|            75173|  takurika3|          155773.0|               360|         9614030.0|          53969.6|              360|          46987.3|            70324400|         1.15599E7|2022-11-07 22:54:42|           371510|\n",
      "+-------+-----------------+-----------+------------------+------------------+------------------+-----------------+-----------------+-----------------+--------------------+------------------+-------------------+-----------------+\n",
      "\n"
     ]
    }
   ],
   "source": [
    "df.describe().show()"
   ]
  },
  {
   "cell_type": "code",
   "execution_count": 23,
   "id": "c5f579ff-effa-47eb-823b-14affaa19fd3",
   "metadata": {},
   "outputs": [
    {
     "name": "stdout",
     "output_type": "stream",
     "text": [
      "+-----------+------+\n",
      "|  reference|number|\n",
      "+-----------+------+\n",
      "|comfenalco1|  4439|\n",
      "|  takurika1|  4153|\n",
      "|  takurika2|  2809|\n",
      "|       edlv|  2047|\n",
      "|  takurika3|    31|\n",
      "+-----------+------+\n",
      "\n"
     ]
    }
   ],
   "source": [
    "df.createOrReplaceTempView(\"ENERGY\")\n",
    "gdf = spark.sql(\"SELECT reference, count(*) as number from ENERGY where day_energy >0 group by reference sort by number desc\")\n",
    "gdf.show()"
   ]
  },
  {
   "cell_type": "code",
   "execution_count": 45,
   "id": "56847bbd-7859-4619-9856-fed72ab4b69c",
   "metadata": {},
   "outputs": [],
   "source": [
    "groupDataframe3 = spark.sql(\"SELECT CAST(created_at AS DATE), reference, count(*) from ENERGY  where day_energy >0 group by CAST(created_at AS DATE), reference\").sort(\"created_at\",ascending=False)"
   ]
  },
  {
   "cell_type": "code",
   "execution_count": 46,
   "id": "b91e77d4-154a-4780-bfb0-3a63e3c4d9e2",
   "metadata": {},
   "outputs": [
    {
     "name": "stdout",
     "output_type": "stream",
     "text": [
      "+----------+-----------+--------+\n",
      "|created_at|  reference|count(1)|\n",
      "+----------+-----------+--------+\n",
      "|2022-11-07|  takurika2|      11|\n",
      "|2022-11-07|  takurika3|      12|\n",
      "|2022-11-07|  takurika1|      16|\n",
      "|2022-11-07|       edlv|      17|\n",
      "|2022-11-07|comfenalco1|      17|\n",
      "|2022-11-06|       edlv|      17|\n",
      "|2022-11-06|  takurika2|      10|\n",
      "|2022-11-06|comfenalco1|      17|\n",
      "|2022-11-06|  takurika3|      11|\n",
      "|2022-11-06|  takurika1|      16|\n",
      "|2022-11-05|  takurika1|      18|\n",
      "|2022-11-05|       edlv|      18|\n",
      "|2022-11-05|comfenalco1|      19|\n",
      "|2022-11-05|  takurika3|       8|\n",
      "|2022-11-05|  takurika2|       6|\n",
      "|2022-11-04|  takurika1|      18|\n",
      "|2022-11-04|comfenalco1|      19|\n",
      "|2022-11-04|       edlv|      18|\n",
      "|2022-11-03|  takurika1|      19|\n",
      "|2022-11-03|       edlv|      18|\n",
      "+----------+-----------+--------+\n",
      "only showing top 20 rows\n",
      "\n"
     ]
    }
   ],
   "source": [
    "groupDataframe3.show()"
   ]
  },
  {
   "cell_type": "code",
   "execution_count": 67,
   "id": "8883b406-f437-4b1c-9a7a-142ec6dfcbef",
   "metadata": {},
   "outputs": [],
   "source": [
    "df.createOrReplaceTempView(\"ENERGY\")\n",
    "groupDataframe4 = spark.sql(\"SELECT CAST(created_at AS DATE), reference, count(*) from ENERGY where reference like 'takurika1' and day_energy is null group by CAST(created_at AS DATE), reference\").sort(\"created_at\",ascending=False)"
   ]
  },
  {
   "cell_type": "code",
   "execution_count": 68,
   "id": "13a2c240-90a0-4f2f-9984-5f661eeea3bb",
   "metadata": {},
   "outputs": [
    {
     "name": "stdout",
     "output_type": "stream",
     "text": [
      "+----------+---------+--------+\n",
      "|created_at|reference|count(1)|\n",
      "+----------+---------+--------+\n",
      "|2022-10-31|takurika1|       1|\n",
      "|2022-10-30|takurika1|       4|\n",
      "|2022-10-29|takurika1|       1|\n",
      "|2022-10-17|takurika1|       2|\n",
      "|2022-10-16|takurika1|       2|\n",
      "|2022-10-03|takurika1|       1|\n",
      "|2022-09-29|takurika1|       1|\n",
      "|2022-09-28|takurika1|       2|\n",
      "|2022-09-26|takurika1|       1|\n",
      "|2022-09-25|takurika1|       1|\n",
      "|2022-09-24|takurika1|       1|\n",
      "|2022-09-23|takurika1|       1|\n",
      "|2022-09-22|takurika1|       1|\n",
      "|2022-09-21|takurika1|       6|\n",
      "|2022-07-13|takurika1|       2|\n",
      "|2022-07-12|takurika1|       3|\n",
      "|2022-03-14|takurika1|       4|\n",
      "|2022-03-13|takurika1|      24|\n",
      "|2022-03-12|takurika1|      16|\n",
      "+----------+---------+--------+\n",
      "\n"
     ]
    }
   ],
   "source": [
    "groupDataframe4.show(20)"
   ]
  },
  {
   "cell_type": "code",
   "execution_count": 70,
   "id": "a15d3802-f038-457d-b62a-0695e8bd26d1",
   "metadata": {},
   "outputs": [
    {
     "name": "stdout",
     "output_type": "stream",
     "text": [
      "+----------+---------+-------------+\n",
      "|created_at|reference|avg(count(1))|\n",
      "+----------+---------+-------------+\n",
      "|2022-10-31|takurika1|          1.0|\n",
      "|2022-10-30|takurika1|          4.0|\n",
      "|2022-10-29|takurika1|          1.0|\n",
      "|2022-10-17|takurika1|          2.0|\n",
      "|2022-10-16|takurika1|          2.0|\n",
      "|2022-10-03|takurika1|          1.0|\n",
      "|2022-09-29|takurika1|          1.0|\n",
      "|2022-09-28|takurika1|          2.0|\n",
      "|2022-09-26|takurika1|          1.0|\n",
      "|2022-09-25|takurika1|          1.0|\n",
      "|2022-09-24|takurika1|          1.0|\n",
      "|2022-09-23|takurika1|          1.0|\n",
      "|2022-09-22|takurika1|          1.0|\n",
      "|2022-09-21|takurika1|          6.0|\n",
      "|2022-07-13|takurika1|          2.0|\n",
      "|2022-07-12|takurika1|          3.0|\n",
      "|2022-03-14|takurika1|          4.0|\n",
      "|2022-03-13|takurika1|         24.0|\n",
      "|2022-03-12|takurika1|         16.0|\n",
      "+----------+---------+-------------+\n",
      "\n"
     ]
    }
   ],
   "source": [
    "groupDataframe4.groupby('created_at','reference').agg({'count(1)': 'mean'}).sort(\"created_at\",ascending=False).show(40)"
   ]
  },
  {
   "cell_type": "code",
   "execution_count": 33,
   "id": "83ea5033-1ac7-45be-8cb7-7ec9065817dc",
   "metadata": {},
   "outputs": [],
   "source": [
    "from pyspark.sql.functions import split"
   ]
  },
  {
   "cell_type": "code",
   "execution_count": 89,
   "id": "04685a1e-5edc-4c49-9096-bed1d78424a8",
   "metadata": {},
   "outputs": [],
   "source": [
    "df = df.withColumn('fecha', split(df['created_at'], ' ').getItem(0)).withColumn('hora', split(df['created_at'], ' ').getItem(1))"
   ]
  },
  {
   "cell_type": "code",
   "execution_count": 90,
   "id": "8d2b90d5-b830-4d12-8562-87aaededdbc2",
   "metadata": {},
   "outputs": [],
   "source": [
    "df.createOrReplaceTempView(\"ENERGY\")"
   ]
  },
  {
   "cell_type": "code",
   "execution_count": 97,
   "id": "28a9d8f0-9109-4868-8969-3d274b90c52e",
   "metadata": {},
   "outputs": [],
   "source": [
    "groupDataframe5 = spark.sql(\"SELECT fecha, reference, hora, count(*) from ENERGY where reference like 'takurika1' and day_energy is null group by fecha, reference, hora\").sort(\"fecha\",ascending=False)"
   ]
  },
  {
   "cell_type": "code",
   "execution_count": 98,
   "id": "10bb0d48-3b34-4591-aead-fed12488dfe2",
   "metadata": {},
   "outputs": [
    {
     "name": "stdout",
     "output_type": "stream",
     "text": [
      "+----------+---------+--------+--------+\n",
      "|     fecha|reference|    hora|count(1)|\n",
      "+----------+---------+--------+--------+\n",
      "|2022-10-31|takurika1|00:00:00|       1|\n",
      "|2022-10-30|takurika1|06:00:00|       1|\n",
      "|2022-10-30|takurika1|01:00:00|       1|\n",
      "|2022-10-30|takurika1|11:00:00|       1|\n",
      "|2022-10-30|takurika1|15:00:00|       1|\n",
      "|2022-10-29|takurika1|19:00:00|       1|\n",
      "|2022-10-17|takurika1|05:00:00|       1|\n",
      "|2022-10-17|takurika1|03:00:00|       1|\n",
      "|2022-10-16|takurika1|03:00:00|       1|\n",
      "|2022-10-16|takurika1|10:00:00|       1|\n",
      "|2022-10-03|takurika1|06:00:00|       1|\n",
      "|2022-09-29|takurika1|00:00:00|       1|\n",
      "|2022-09-28|takurika1|14:00:00|       1|\n",
      "|2022-09-28|takurika1|21:00:00|       1|\n",
      "|2022-09-26|takurika1|01:00:00|       1|\n",
      "|2022-09-25|takurika1|23:00:00|       1|\n",
      "|2022-09-24|takurika1|11:00:00|       1|\n",
      "|2022-09-23|takurika1|05:00:00|       1|\n",
      "|2022-09-22|takurika1|00:00:00|       1|\n",
      "|2022-09-21|takurika1|12:00:00|       1|\n",
      "|2022-09-21|takurika1|19:00:00|       1|\n",
      "|2022-09-21|takurika1|15:00:00|       1|\n",
      "|2022-09-21|takurika1|22:00:00|       1|\n",
      "|2022-09-21|takurika1|17:00:00|       1|\n",
      "|2022-09-21|takurika1|16:00:00|       1|\n",
      "|2022-07-13|takurika1|04:00:00|       1|\n",
      "|2022-07-13|takurika1|01:00:00|       1|\n",
      "|2022-07-12|takurika1|13:00:00|       1|\n",
      "|2022-07-12|takurika1|17:00:00|       1|\n",
      "|2022-07-12|takurika1|14:00:00|       1|\n",
      "|2022-03-14|takurika1|00:00:00|       1|\n",
      "|2022-03-14|takurika1|01:00:00|       1|\n",
      "|2022-03-14|takurika1|03:00:00|       1|\n",
      "|2022-03-14|takurika1|02:00:00|       1|\n",
      "|2022-03-13|takurika1|14:00:00|       1|\n",
      "|2022-03-13|takurika1|08:00:00|       1|\n",
      "|2022-03-13|takurika1|22:00:00|       1|\n",
      "|2022-03-13|takurika1|23:00:00|       1|\n",
      "|2022-03-13|takurika1|05:00:00|       1|\n",
      "|2022-03-13|takurika1|02:00:00|       1|\n",
      "|2022-03-13|takurika1|10:00:00|       1|\n",
      "|2022-03-13|takurika1|16:00:00|       1|\n",
      "|2022-03-13|takurika1|09:00:00|       1|\n",
      "|2022-03-13|takurika1|13:00:00|       1|\n",
      "|2022-03-13|takurika1|19:00:00|       1|\n",
      "|2022-03-13|takurika1|20:00:00|       1|\n",
      "|2022-03-13|takurika1|07:00:00|       1|\n",
      "|2022-03-13|takurika1|01:00:00|       1|\n",
      "|2022-03-13|takurika1|12:00:00|       1|\n",
      "|2022-03-13|takurika1|03:00:00|       1|\n",
      "+----------+---------+--------+--------+\n",
      "only showing top 50 rows\n",
      "\n"
     ]
    }
   ],
   "source": [
    "groupDataframe5.show(50)"
   ]
  },
  {
   "cell_type": "code",
   "execution_count": 79,
   "id": "d3499004-7768-4076-8b8b-5255612b7511",
   "metadata": {},
   "outputs": [
    {
     "ename": "AnalysisException",
     "evalue": "Cannot resolve column name \"count(1)\" among (id, created_at, reference, power_real, power_counter, power_real_temp, pac_sum, pac_sum_counter, pac_sum_temp, total_energy, co2factor, update_at, day_energy, fecha, hora)",
     "output_type": "error",
     "traceback": [
      "\u001b[0;31m---------------------------------------------------------------------------\u001b[0m",
      "\u001b[0;31mAnalysisException\u001b[0m                         Traceback (most recent call last)",
      "Cell \u001b[0;32mIn [79], line 1\u001b[0m\n\u001b[0;32m----> 1\u001b[0m \u001b[43mgroupDataframe5\u001b[49m\u001b[38;5;241;43m.\u001b[39;49m\u001b[43mgroupby\u001b[49m\u001b[43m(\u001b[49m\u001b[38;5;124;43m'\u001b[39;49m\u001b[38;5;124;43mfecha\u001b[39;49m\u001b[38;5;124;43m'\u001b[39;49m\u001b[43m,\u001b[49m\u001b[38;5;124;43m'\u001b[39;49m\u001b[38;5;124;43mreference\u001b[39;49m\u001b[38;5;124;43m'\u001b[39;49m\u001b[43m)\u001b[49m\u001b[38;5;241;43m.\u001b[39;49m\u001b[43magg\u001b[49m\u001b[43m(\u001b[49m\u001b[43m{\u001b[49m\u001b[38;5;124;43m'\u001b[39;49m\u001b[38;5;124;43mcount(1)\u001b[39;49m\u001b[38;5;124;43m'\u001b[39;49m\u001b[43m:\u001b[49m\u001b[43m \u001b[49m\u001b[38;5;124;43m'\u001b[39;49m\u001b[38;5;124;43mmean\u001b[39;49m\u001b[38;5;124;43m'\u001b[39;49m\u001b[43m}\u001b[49m\u001b[43m)\u001b[49m\u001b[38;5;241m.\u001b[39msort(\u001b[38;5;124m\"\u001b[39m\u001b[38;5;124mhora\u001b[39m\u001b[38;5;124m\"\u001b[39m,ascending\u001b[38;5;241m=\u001b[39m\u001b[38;5;28;01mFalse\u001b[39;00m)\u001b[38;5;241m.\u001b[39mshow(\u001b[38;5;241m40\u001b[39m)\n",
      "File \u001b[0;32m/usr/local/spark/python/pyspark/sql/group.py:132\u001b[0m, in \u001b[0;36mGroupedData.agg\u001b[0;34m(self, *exprs)\u001b[0m\n\u001b[1;32m    130\u001b[0m \u001b[38;5;28;01massert\u001b[39;00m exprs, \u001b[38;5;124m\"\u001b[39m\u001b[38;5;124mexprs should not be empty\u001b[39m\u001b[38;5;124m\"\u001b[39m\n\u001b[1;32m    131\u001b[0m \u001b[38;5;28;01mif\u001b[39;00m \u001b[38;5;28mlen\u001b[39m(exprs) \u001b[38;5;241m==\u001b[39m \u001b[38;5;241m1\u001b[39m \u001b[38;5;129;01mand\u001b[39;00m \u001b[38;5;28misinstance\u001b[39m(exprs[\u001b[38;5;241m0\u001b[39m], \u001b[38;5;28mdict\u001b[39m):\n\u001b[0;32m--> 132\u001b[0m     jdf \u001b[38;5;241m=\u001b[39m \u001b[38;5;28;43mself\u001b[39;49m\u001b[38;5;241;43m.\u001b[39;49m\u001b[43m_jgd\u001b[49m\u001b[38;5;241;43m.\u001b[39;49m\u001b[43magg\u001b[49m\u001b[43m(\u001b[49m\u001b[43mexprs\u001b[49m\u001b[43m[\u001b[49m\u001b[38;5;241;43m0\u001b[39;49m\u001b[43m]\u001b[49m\u001b[43m)\u001b[49m\n\u001b[1;32m    133\u001b[0m \u001b[38;5;28;01melse\u001b[39;00m:\n\u001b[1;32m    134\u001b[0m     \u001b[38;5;66;03m# Columns\u001b[39;00m\n\u001b[1;32m    135\u001b[0m     \u001b[38;5;28;01massert\u001b[39;00m \u001b[38;5;28mall\u001b[39m(\u001b[38;5;28misinstance\u001b[39m(c, Column) \u001b[38;5;28;01mfor\u001b[39;00m c \u001b[38;5;129;01min\u001b[39;00m exprs), \u001b[38;5;124m\"\u001b[39m\u001b[38;5;124mall exprs should be Column\u001b[39m\u001b[38;5;124m\"\u001b[39m\n",
      "File \u001b[0;32m/usr/local/spark/python/lib/py4j-0.10.9.5-src.zip/py4j/java_gateway.py:1321\u001b[0m, in \u001b[0;36mJavaMember.__call__\u001b[0;34m(self, *args)\u001b[0m\n\u001b[1;32m   1315\u001b[0m command \u001b[38;5;241m=\u001b[39m proto\u001b[38;5;241m.\u001b[39mCALL_COMMAND_NAME \u001b[38;5;241m+\u001b[39m\\\n\u001b[1;32m   1316\u001b[0m     \u001b[38;5;28mself\u001b[39m\u001b[38;5;241m.\u001b[39mcommand_header \u001b[38;5;241m+\u001b[39m\\\n\u001b[1;32m   1317\u001b[0m     args_command \u001b[38;5;241m+\u001b[39m\\\n\u001b[1;32m   1318\u001b[0m     proto\u001b[38;5;241m.\u001b[39mEND_COMMAND_PART\n\u001b[1;32m   1320\u001b[0m answer \u001b[38;5;241m=\u001b[39m \u001b[38;5;28mself\u001b[39m\u001b[38;5;241m.\u001b[39mgateway_client\u001b[38;5;241m.\u001b[39msend_command(command)\n\u001b[0;32m-> 1321\u001b[0m return_value \u001b[38;5;241m=\u001b[39m \u001b[43mget_return_value\u001b[49m\u001b[43m(\u001b[49m\n\u001b[1;32m   1322\u001b[0m \u001b[43m    \u001b[49m\u001b[43manswer\u001b[49m\u001b[43m,\u001b[49m\u001b[43m \u001b[49m\u001b[38;5;28;43mself\u001b[39;49m\u001b[38;5;241;43m.\u001b[39;49m\u001b[43mgateway_client\u001b[49m\u001b[43m,\u001b[49m\u001b[43m \u001b[49m\u001b[38;5;28;43mself\u001b[39;49m\u001b[38;5;241;43m.\u001b[39;49m\u001b[43mtarget_id\u001b[49m\u001b[43m,\u001b[49m\u001b[43m \u001b[49m\u001b[38;5;28;43mself\u001b[39;49m\u001b[38;5;241;43m.\u001b[39;49m\u001b[43mname\u001b[49m\u001b[43m)\u001b[49m\n\u001b[1;32m   1324\u001b[0m \u001b[38;5;28;01mfor\u001b[39;00m temp_arg \u001b[38;5;129;01min\u001b[39;00m temp_args:\n\u001b[1;32m   1325\u001b[0m     temp_arg\u001b[38;5;241m.\u001b[39m_detach()\n",
      "File \u001b[0;32m/usr/local/spark/python/pyspark/sql/utils.py:196\u001b[0m, in \u001b[0;36mcapture_sql_exception.<locals>.deco\u001b[0;34m(*a, **kw)\u001b[0m\n\u001b[1;32m    192\u001b[0m converted \u001b[38;5;241m=\u001b[39m convert_exception(e\u001b[38;5;241m.\u001b[39mjava_exception)\n\u001b[1;32m    193\u001b[0m \u001b[38;5;28;01mif\u001b[39;00m \u001b[38;5;129;01mnot\u001b[39;00m \u001b[38;5;28misinstance\u001b[39m(converted, UnknownException):\n\u001b[1;32m    194\u001b[0m     \u001b[38;5;66;03m# Hide where the exception came from that shows a non-Pythonic\u001b[39;00m\n\u001b[1;32m    195\u001b[0m     \u001b[38;5;66;03m# JVM exception message.\u001b[39;00m\n\u001b[0;32m--> 196\u001b[0m     \u001b[38;5;28;01mraise\u001b[39;00m converted \u001b[38;5;28;01mfrom\u001b[39;00m \u001b[38;5;28mNone\u001b[39m\n\u001b[1;32m    197\u001b[0m \u001b[38;5;28;01melse\u001b[39;00m:\n\u001b[1;32m    198\u001b[0m     \u001b[38;5;28;01mraise\u001b[39;00m\n",
      "\u001b[0;31mAnalysisException\u001b[0m: Cannot resolve column name \"count(1)\" among (id, created_at, reference, power_real, power_counter, power_real_temp, pac_sum, pac_sum_counter, pac_sum_temp, total_energy, co2factor, update_at, day_energy, fecha, hora)"
     ]
    }
   ],
   "source": [
    "groupDataframe5.groupby('fecha','reference').agg({'count(1)': 'mean'}).sort(\"hora\",ascending=False).show(40)"
   ]
  },
  {
   "cell_type": "code",
   "execution_count": 29,
   "id": "6a83767e-6598-4422-8526-14b703f06a83",
   "metadata": {},
   "outputs": [
    {
     "data": {
      "text/plain": [
       "DataFrame[id: int, created_at: timestamp, reference: string, power_real: double, power_counter: int, power_real_temp: double, pac_sum: double, pac_sum_counter: int, pac_sum_temp: double, total_energy: int, co2factor: double, update_at: string, day_energy: int]"
      ]
     },
     "execution_count": 29,
     "metadata": {},
     "output_type": "execute_result"
    }
   ],
   "source": []
  },
  {
   "cell_type": "code",
   "execution_count": 93,
   "id": "2f465b1a-f7ec-4a61-b581-9e823d697f9a",
   "metadata": {},
   "outputs": [
    {
     "name": "stdout",
     "output_type": "stream",
     "text": [
      "+------+------------------+\n",
      "|gender|       avg(salary)|\n",
      "+------+------------------+\n",
      "|     M|3666.6666666666665|\n",
      "|     F|            1999.5|\n",
      "+------+------------------+\n",
      "\n"
     ]
    }
   ],
   "source": [
    "groupDataframe2 = spark.sql(\"SELECT gender, avg(salary) from PERSON_DATA group by gender\")\n",
    "groupDataframe2.show()"
   ]
  },
  {
   "cell_type": "code",
   "execution_count": 49,
   "id": "7ed24d0f-f4a0-43d6-a012-ce5f26ade2f6",
   "metadata": {},
   "outputs": [
    {
     "name": "stdout",
     "output_type": "stream",
     "text": [
      "+------+-----+\n",
      "|gender|count|\n",
      "+------+-----+\n",
      "|     M|    3|\n",
      "|     F|    2|\n",
      "+------+-----+\n",
      "\n"
     ]
    }
   ],
   "source": [
    "dataframe.groupBy(\"gender\").count().sort(\"count\",ascending=False).show()"
   ]
  },
  {
   "cell_type": "code",
   "execution_count": 50,
   "id": "85c65481-5a94-45b7-8b77-e10a10d5f963",
   "metadata": {},
   "outputs": [
    {
     "name": "stdout",
     "output_type": "stream",
     "text": [
      "+---------+----------+--------+----------+------+------+\n",
      "|firstname|middlename|lastname|       dob|gender|salary|\n",
      "+---------+----------+--------+----------+------+------+\n",
      "|    James|          |   Smith|1991-04-01|     M|  3000|\n",
      "|  Michael|      Rose|        |2000-05-19|     M|  4000|\n",
      "|   Robert|          |Williams|1978-09-05|     M|  4000|\n",
      "|    Maria|      Anne|   Jones|1967-12-01|     F|  4000|\n",
      "|      Jen|      Mary|   Brown|1980-02-17|     F|    -1|\n",
      "+---------+----------+--------+----------+------+------+\n",
      "\n"
     ]
    }
   ],
   "source": [
    "dataframe.show()"
   ]
  },
  {
   "cell_type": "code",
   "execution_count": 54,
   "id": "e0faa720-7f77-4538-91a4-278b2d38f1c0",
   "metadata": {},
   "outputs": [
    {
     "data": {
      "text/plain": [
       "3"
      ]
     },
     "execution_count": 54,
     "metadata": {},
     "output_type": "execute_result"
    }
   ],
   "source": [
    "dataframe.filter(dataframe.salary > 3999).count()"
   ]
  },
  {
   "cell_type": "code",
   "execution_count": 56,
   "id": "7761fb5d-04f6-450d-bffd-8e6b5a0e981e",
   "metadata": {},
   "outputs": [
    {
     "name": "stdout",
     "output_type": "stream",
     "text": [
      "+------+------------------+\n",
      "|gender|       avg(salary)|\n",
      "+------+------------------+\n",
      "|     M|3666.6666666666665|\n",
      "|     F|            1999.5|\n",
      "+------+------------------+\n",
      "\n"
     ]
    }
   ],
   "source": [
    "dataframe.groupby('gender').agg({'salary': 'mean'}).show()"
   ]
  },
  {
   "cell_type": "code",
   "execution_count": null,
   "id": "cc27c5c8-4af2-4c0e-b939-63983ecf6729",
   "metadata": {},
   "outputs": [],
   "source": []
  }
 ],
 "metadata": {
  "kernelspec": {
   "display_name": "Python 3 (ipykernel)",
   "language": "python",
   "name": "python3"
  },
  "language_info": {
   "codemirror_mode": {
    "name": "ipython",
    "version": 3
   },
   "file_extension": ".py",
   "mimetype": "text/x-python",
   "name": "python",
   "nbconvert_exporter": "python",
   "pygments_lexer": "ipython3",
   "version": "3.10.6"
  }
 },
 "nbformat": 4,
 "nbformat_minor": 5
}
